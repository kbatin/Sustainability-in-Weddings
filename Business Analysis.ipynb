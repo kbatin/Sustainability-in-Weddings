{
 "cells": [
  {
   "cell_type": "markdown",
   "id": "48177745",
   "metadata": {},
   "source": [
    "<style>\n",
    "  /* Style for the heading */\n",
    "  .heading {\n",
    "    font-size: 32px; /* Increased font size */\n",
    "    font-weight: bold;\n",
    "    text-decoration: underline;\n",
    "    margin-bottom: 10px; /* Adjust as needed */\n",
    "  }\n",
    "</style>\n",
    "\n",
    "<hr style=\"height:1px;border:none;color:#333;background-color:#333;\" />\n",
    "<hr style=\"height:1px;border:none;color:#333;background-color:#333;\" />\n",
    "\n",
    "<div class=\"heading\">Addressing the Business Question</div>\n",
    "\n",
    "Hult International Business School<br>\n",
    "Kimberly Batin<br>\n",
    "Master of Business Analytics<br>\n",
    "\n",
    "<hr style=\"height:1px;border:none;color:#333;background-color:#333;\" />\n",
    "<hr style=\"height:1px;border:none;color:#333;background-color:#333;\" />\n"
   ]
  },
  {
   "cell_type": "markdown",
   "id": "358bef01",
   "metadata": {},
   "source": [
    "Are wedding vendors with sustainable practices more cost effective?\n",
    "\n",
    "UCLA Sustainability defines sustainability as practices that support ecological, human, and economic health and vitality. Sustainability presumes that resources are finite, and should be used conservatively and wisely with a view to long-term priorities and consequences of the ways in which resources are used.\n",
    "\n",
    "In an article by Johns et al. (2023), some clients do not buy products that are branded as environmentally friendly, but they focus on cutting down their consumption, such as fuel, plastic, energy and other factors. They are not connecting sustainability and products they need to buy. They are curious (curious about eco-friendly products), and conscious (concerned with climate change). \n",
    "\n",
    "Price was cited as an obstacle to purchasing by 34% of Conscious Nonconsumers; those higher prices mean that consumers need to work harder to justify purchasing (Johns et al., 2023).\n",
    "\n",
    "Based on Merriam-Webster, cost effective is producing good results without costing a lot of money.\n",
    "\n",
    "\"Cost effectiveness focuses on achieving predetermined objectives within set parameters related to cost. If the business can achieve the set objective within the set cost, the decision is tagged as cost effective. To achieve higher efficiency in business operations, businesses need to balance increased cost saving and generate long-term value for the business\" (GEP, 2016)."
   ]
  },
  {
   "cell_type": "markdown",
   "id": "647fe8ae",
   "metadata": {},
   "source": [
    " "
   ]
  },
  {
   "cell_type": "markdown",
   "id": "8446ece0",
   "metadata": {},
   "source": [
    " "
   ]
  },
  {
   "cell_type": "markdown",
   "id": "5204d3ba",
   "metadata": {},
   "source": [
    "In the next codes, it will focus on invitations to see if there is a difference with one department compare to the whole wedding planners."
   ]
  },
  {
   "cell_type": "code",
   "execution_count": 138,
   "id": "d44a3b07",
   "metadata": {},
   "outputs": [
    {
     "data": {
      "text/html": [
       "<div>\n",
       "<style scoped>\n",
       "    .dataframe tbody tr th:only-of-type {\n",
       "        vertical-align: middle;\n",
       "    }\n",
       "\n",
       "    .dataframe tbody tr th {\n",
       "        vertical-align: top;\n",
       "    }\n",
       "\n",
       "    .dataframe thead th {\n",
       "        text-align: right;\n",
       "    }\n",
       "</style>\n",
       "<table border=\"1\" class=\"dataframe\">\n",
       "  <thead>\n",
       "    <tr style=\"text-align: right;\">\n",
       "      <th></th>\n",
       "      <th>characteristic_id</th>\n",
       "      <th>product_category</th>\n",
       "      <th>product_type</th>\n",
       "      <th>price_i</th>\n",
       "      <th>weight_i_lb</th>\n",
       "      <th>sustainability_rating</th>\n",
       "      <th>mailing_id</th>\n",
       "      <th>vendor_id</th>\n",
       "      <th>product_id</th>\n",
       "      <th>product_name</th>\n",
       "      <th>price_unit</th>\n",
       "      <th>unit_vol</th>\n",
       "      <th>price_ce</th>\n",
       "      <th>vendor_name</th>\n",
       "      <th>vendor_sustainable</th>\n",
       "    </tr>\n",
       "  </thead>\n",
       "  <tbody>\n",
       "    <tr>\n",
       "      <th>0</th>\n",
       "      <td>1</td>\n",
       "      <td>Envelope Liner</td>\n",
       "      <td>Recycled</td>\n",
       "      <td>289.0</td>\n",
       "      <td>0.007</td>\n",
       "      <td>1</td>\n",
       "      <td>1</td>\n",
       "      <td>inv_01</td>\n",
       "      <td>prod_134</td>\n",
       "      <td>invitationalways and forever</td>\n",
       "      <td>352.04</td>\n",
       "      <td>per 100 invitations</td>\n",
       "      <td>2</td>\n",
       "      <td>theknot</td>\n",
       "      <td>1</td>\n",
       "    </tr>\n",
       "    <tr>\n",
       "      <th>1</th>\n",
       "      <td>3</td>\n",
       "      <td>Envelope Liner</td>\n",
       "      <td>Recycled</td>\n",
       "      <td>289.0</td>\n",
       "      <td>0.007</td>\n",
       "      <td>1</td>\n",
       "      <td>3</td>\n",
       "      <td>inv_02</td>\n",
       "      <td>prod_135</td>\n",
       "      <td>invitationalways and forever</td>\n",
       "      <td>352.04</td>\n",
       "      <td>per 100 invitations</td>\n",
       "      <td>2</td>\n",
       "      <td>theknot</td>\n",
       "      <td>1</td>\n",
       "    </tr>\n",
       "    <tr>\n",
       "      <th>2</th>\n",
       "      <td>4</td>\n",
       "      <td>Envelope Liner</td>\n",
       "      <td>Recycled</td>\n",
       "      <td>289.0</td>\n",
       "      <td>0.007</td>\n",
       "      <td>1</td>\n",
       "      <td>4</td>\n",
       "      <td>inv_03</td>\n",
       "      <td>prod_136</td>\n",
       "      <td>invitationalways and forever</td>\n",
       "      <td>352.04</td>\n",
       "      <td>per 100 invitations</td>\n",
       "      <td>2</td>\n",
       "      <td>theknot</td>\n",
       "      <td>1</td>\n",
       "    </tr>\n",
       "    <tr>\n",
       "      <th>3</th>\n",
       "      <td>6</td>\n",
       "      <td>Envelope Liner</td>\n",
       "      <td>Matte text weight</td>\n",
       "      <td>259.0</td>\n",
       "      <td>0.005</td>\n",
       "      <td>0</td>\n",
       "      <td>2</td>\n",
       "      <td>inv_04</td>\n",
       "      <td>prod_137</td>\n",
       "      <td>invitationalways and forever</td>\n",
       "      <td>324.96</td>\n",
       "      <td>per 100 invitations</td>\n",
       "      <td>2</td>\n",
       "      <td>theknot</td>\n",
       "      <td>0</td>\n",
       "    </tr>\n",
       "    <tr>\n",
       "      <th>4</th>\n",
       "      <td>7</td>\n",
       "      <td>Envelope Liner</td>\n",
       "      <td>Matte text weight</td>\n",
       "      <td>259.0</td>\n",
       "      <td>0.005</td>\n",
       "      <td>0</td>\n",
       "      <td>3</td>\n",
       "      <td>inv_05</td>\n",
       "      <td>prod_138</td>\n",
       "      <td>invitationalways and forever</td>\n",
       "      <td>324.96</td>\n",
       "      <td>per 100 invitations</td>\n",
       "      <td>2</td>\n",
       "      <td>theknot</td>\n",
       "      <td>0</td>\n",
       "    </tr>\n",
       "  </tbody>\n",
       "</table>\n",
       "</div>"
      ],
      "text/plain": [
       "   characteristic_id product_category       product_type  price_i  \\\n",
       "0                  1   Envelope Liner          Recycled     289.0   \n",
       "1                  3   Envelope Liner          Recycled     289.0   \n",
       "2                  4   Envelope Liner          Recycled     289.0   \n",
       "3                  6   Envelope Liner  Matte text weight    259.0   \n",
       "4                  7   Envelope Liner  Matte text weight    259.0   \n",
       "\n",
       "   weight_i_lb  sustainability_rating  mailing_id vendor_id product_id  \\\n",
       "0        0.007                      1           1    inv_01   prod_134   \n",
       "1        0.007                      1           3    inv_02   prod_135   \n",
       "2        0.007                      1           4    inv_03   prod_136   \n",
       "3        0.005                      0           2    inv_04   prod_137   \n",
       "4        0.005                      0           3    inv_05   prod_138   \n",
       "\n",
       "                   product_name  price_unit             unit_vol  price_ce  \\\n",
       "0  invitationalways and forever      352.04  per 100 invitations         2   \n",
       "1  invitationalways and forever      352.04  per 100 invitations         2   \n",
       "2  invitationalways and forever      352.04  per 100 invitations         2   \n",
       "3  invitationalways and forever      324.96  per 100 invitations         2   \n",
       "4  invitationalways and forever      324.96  per 100 invitations         2   \n",
       "\n",
       "  vendor_name  vendor_sustainable  \n",
       "0     theknot                   1  \n",
       "1     theknot                   1  \n",
       "2     theknot                   1  \n",
       "3     theknot                   0  \n",
       "4     theknot                   0  "
      ]
     },
     "execution_count": 138,
     "metadata": {},
     "output_type": "execute_result"
    }
   ],
   "source": [
    "# importing packages\n",
    "import pandas            as pd  # data science essentials\n",
    "import matplotlib.pyplot as plt # data visualization essentials\n",
    "import seaborn           as sns # enhanced data visualization\n",
    "import numpy             as np\n",
    "\n",
    "invitations = pd.read_excel(io = './invitations1.xlsx')\n",
    "# importing dataset\n",
    "\n",
    "invitations.head(n = 5)\n",
    "# results"
   ]
  },
  {
   "cell_type": "code",
   "execution_count": 117,
   "id": "0fe2e7cd",
   "metadata": {
    "scrolled": true
   },
   "outputs": [
    {
     "name": "stdout",
     "output_type": "stream",
     "text": [
      "<class 'pandas.core.frame.DataFrame'>\n",
      "RangeIndex: 50 entries, 0 to 49\n",
      "Data columns (total 15 columns):\n",
      " #   Column                 Non-Null Count  Dtype  \n",
      "---  ------                 --------------  -----  \n",
      " 0   characteristic_id      50 non-null     int64  \n",
      " 1   product_category       50 non-null     object \n",
      " 2   product_type           50 non-null     object \n",
      " 3   price_i                50 non-null     float64\n",
      " 4   weight_i_lb            50 non-null     float64\n",
      " 5   sustainability_rating  50 non-null     int64  \n",
      " 6   mailing_id             50 non-null     int64  \n",
      " 7   vendor_id              50 non-null     object \n",
      " 8   product_id             50 non-null     object \n",
      " 9   product_name           50 non-null     object \n",
      " 10  price_unit             50 non-null     float64\n",
      " 11  unit_vol               50 non-null     object \n",
      " 12  price_ce               50 non-null     int64  \n",
      " 13  vendor_name            50 non-null     object \n",
      " 14  vendor_sustainable     50 non-null     int64  \n",
      "dtypes: float64(3), int64(5), object(7)\n",
      "memory usage: 6.0+ KB\n"
     ]
    }
   ],
   "source": [
    "# table info\n",
    "invitations.info(verbose = True)"
   ]
  },
  {
   "cell_type": "code",
   "execution_count": 118,
   "id": "c764785f",
   "metadata": {},
   "outputs": [
    {
     "data": {
      "text/html": [
       "<div>\n",
       "<style scoped>\n",
       "    .dataframe tbody tr th:only-of-type {\n",
       "        vertical-align: middle;\n",
       "    }\n",
       "\n",
       "    .dataframe tbody tr th {\n",
       "        vertical-align: top;\n",
       "    }\n",
       "\n",
       "    .dataframe thead th {\n",
       "        text-align: right;\n",
       "    }\n",
       "</style>\n",
       "<table border=\"1\" class=\"dataframe\">\n",
       "  <thead>\n",
       "    <tr style=\"text-align: right;\">\n",
       "      <th></th>\n",
       "      <th>characteristic_id</th>\n",
       "      <th>price_i</th>\n",
       "      <th>weight_i_lb</th>\n",
       "      <th>sustainability_rating</th>\n",
       "      <th>mailing_id</th>\n",
       "      <th>price_unit</th>\n",
       "      <th>price_ce</th>\n",
       "      <th>vendor_sustainable</th>\n",
       "    </tr>\n",
       "  </thead>\n",
       "  <tbody>\n",
       "    <tr>\n",
       "      <th>count</th>\n",
       "      <td>50.0</td>\n",
       "      <td>50.0</td>\n",
       "      <td>50.0</td>\n",
       "      <td>50.0</td>\n",
       "      <td>50.0</td>\n",
       "      <td>50.0</td>\n",
       "      <td>50.0</td>\n",
       "      <td>50.0</td>\n",
       "    </tr>\n",
       "    <tr>\n",
       "      <th>mean</th>\n",
       "      <td>49.0</td>\n",
       "      <td>344.0</td>\n",
       "      <td>0.0</td>\n",
       "      <td>1.0</td>\n",
       "      <td>2.0</td>\n",
       "      <td>289.0</td>\n",
       "      <td>2.0</td>\n",
       "      <td>1.0</td>\n",
       "    </tr>\n",
       "    <tr>\n",
       "      <th>std</th>\n",
       "      <td>30.0</td>\n",
       "      <td>476.0</td>\n",
       "      <td>0.0</td>\n",
       "      <td>0.0</td>\n",
       "      <td>1.0</td>\n",
       "      <td>117.0</td>\n",
       "      <td>1.0</td>\n",
       "      <td>0.0</td>\n",
       "    </tr>\n",
       "    <tr>\n",
       "      <th>min</th>\n",
       "      <td>1.0</td>\n",
       "      <td>50.0</td>\n",
       "      <td>0.0</td>\n",
       "      <td>0.0</td>\n",
       "      <td>0.0</td>\n",
       "      <td>50.0</td>\n",
       "      <td>1.0</td>\n",
       "      <td>0.0</td>\n",
       "    </tr>\n",
       "    <tr>\n",
       "      <th>25%</th>\n",
       "      <td>22.0</td>\n",
       "      <td>169.0</td>\n",
       "      <td>0.0</td>\n",
       "      <td>0.0</td>\n",
       "      <td>0.0</td>\n",
       "      <td>284.0</td>\n",
       "      <td>1.0</td>\n",
       "      <td>0.0</td>\n",
       "    </tr>\n",
       "    <tr>\n",
       "      <th>50%</th>\n",
       "      <td>50.0</td>\n",
       "      <td>228.0</td>\n",
       "      <td>0.0</td>\n",
       "      <td>1.0</td>\n",
       "      <td>2.0</td>\n",
       "      <td>352.0</td>\n",
       "      <td>2.0</td>\n",
       "      <td>1.0</td>\n",
       "    </tr>\n",
       "    <tr>\n",
       "      <th>75%</th>\n",
       "      <td>74.0</td>\n",
       "      <td>289.0</td>\n",
       "      <td>0.0</td>\n",
       "      <td>1.0</td>\n",
       "      <td>3.0</td>\n",
       "      <td>393.0</td>\n",
       "      <td>3.0</td>\n",
       "      <td>1.0</td>\n",
       "    </tr>\n",
       "    <tr>\n",
       "      <th>max</th>\n",
       "      <td>98.0</td>\n",
       "      <td>2508.0</td>\n",
       "      <td>0.0</td>\n",
       "      <td>1.0</td>\n",
       "      <td>4.0</td>\n",
       "      <td>393.0</td>\n",
       "      <td>4.0</td>\n",
       "      <td>1.0</td>\n",
       "    </tr>\n",
       "  </tbody>\n",
       "</table>\n",
       "</div>"
      ],
      "text/plain": [
       "       characteristic_id  price_i  weight_i_lb  sustainability_rating  \\\n",
       "count               50.0     50.0         50.0                   50.0   \n",
       "mean                49.0    344.0          0.0                    1.0   \n",
       "std                 30.0    476.0          0.0                    0.0   \n",
       "min                  1.0     50.0          0.0                    0.0   \n",
       "25%                 22.0    169.0          0.0                    0.0   \n",
       "50%                 50.0    228.0          0.0                    1.0   \n",
       "75%                 74.0    289.0          0.0                    1.0   \n",
       "max                 98.0   2508.0          0.0                    1.0   \n",
       "\n",
       "       mailing_id  price_unit  price_ce  vendor_sustainable  \n",
       "count        50.0        50.0      50.0                50.0  \n",
       "mean          2.0       289.0       2.0                 1.0  \n",
       "std           1.0       117.0       1.0                 0.0  \n",
       "min           0.0        50.0       1.0                 0.0  \n",
       "25%           0.0       284.0       1.0                 0.0  \n",
       "50%           2.0       352.0       2.0                 1.0  \n",
       "75%           3.0       393.0       3.0                 1.0  \n",
       "max           4.0       393.0       4.0                 1.0  "
      ]
     },
     "execution_count": 118,
     "metadata": {},
     "output_type": "execute_result"
    }
   ],
   "source": [
    "# table description\n",
    "invitations.describe().round(decimals = 0)"
   ]
  },
  {
   "cell_type": "markdown",
   "id": "923d750b",
   "metadata": {},
   "source": [
    " "
   ]
  },
  {
   "cell_type": "code",
   "execution_count": 119,
   "id": "f701d92c",
   "metadata": {},
   "outputs": [
    {
     "name": "stdout",
     "output_type": "stream",
     "text": [
      "product_category\n",
      "Invitation         15\n",
      "RSVP               12\n",
      "Envelope Liner      9\n",
      "Wedding Program     4\n",
      "Menu                4\n",
      "Place Card          3\n",
      "Table Number        3\n",
      "Name: count, dtype: int64\n"
     ]
    }
   ],
   "source": [
    "# frequency table\n",
    "inv_freq = invitations['product_category'].value_counts()\n",
    "\n",
    "print(inv_freq)\n"
   ]
  },
  {
   "cell_type": "code",
   "execution_count": 120,
   "id": "e11cd46b",
   "metadata": {},
   "outputs": [
    {
     "name": "stdout",
     "output_type": "stream",
     "text": [
      "price_ce\n",
      "2    18\n",
      "1    13\n",
      "4    10\n",
      "3     9\n",
      "Name: count, dtype: int64\n"
     ]
    }
   ],
   "source": [
    "inv_freq2 = invitations['price_ce'].value_counts()\n",
    "\n",
    "print(inv_freq2)\n"
   ]
  },
  {
   "cell_type": "markdown",
   "id": "d293e0a3",
   "metadata": {},
   "source": [
    " "
   ]
  },
  {
   "cell_type": "code",
   "execution_count": 121,
   "id": "ca3447b7",
   "metadata": {},
   "outputs": [
    {
     "name": "stdout",
     "output_type": "stream",
     "text": [
      "Mean sustainable prices of invitations: 345.12\n",
      "Mean non-sustainable prices invitations: 341.69\n"
     ]
    }
   ],
   "source": [
    "# price list\n",
    "prices = [\n",
    "    289, 289, 289, 259, 259, 150, 150, 150, 700, 700, 285, 285, 169, 169, 189,\n",
    "    289, 259, 229, 229, 289, 289, 289, 289, 199, 69, 69, 69, 249, 188, 188,\n",
    "    207.2, 207.2, 226, 226, 2468, 268, 157, 157, 199, 151, 199, 69, 69, 952,\n",
    "    269, 269, 2508, 50, 219, 799\n",
    "]\n",
    "\n",
    "# separating the sustainable and non-sustainable prices\n",
    "sustainable_prices = [\n",
    "    289, 289, 289, 150, 150, 150, 700, 700, 259, 229, 289, 289, 289, 289, 199,\n",
    "    69, 69, 69, 249, 188, 268, 157, 199, 151, 199, 69, 952, 269, 2508, 50, 219, 799\n",
    "]\n",
    "\n",
    "non_sustainable_prices = [\n",
    "    259, 259, 285, 285, 169, 169, 189, 289, 229, 188, 207.2, 207.2, 226, 226, 2468, \n",
    "    157, 69, 269\n",
    "]\n",
    "\n",
    "# calculate average of sustainable prices\n",
    "if sustainable_prices:\n",
    "    mean_sustainable = round(sum(sustainable_prices) / len(sustainable_prices), 2)\n",
    "    print(f\"Mean sustainable prices of invitations: {mean_sustainable}\")\n",
    "else:\n",
    "    print(\"None\")\n",
    "\n",
    "# calculate average of non-sustainable prices\n",
    "if non_sustainable_prices:\n",
    "    mean_non_sustainable = round(sum(non_sustainable_prices) / len(non_sustainable_prices), 2)\n",
    "    print(f\"Mean non-sustainable prices invitations: {mean_non_sustainable}\")\n",
    "else:\n",
    "    print(\"None\")\n"
   ]
  },
  {
   "cell_type": "markdown",
   "id": "54d5a4a3",
   "metadata": {},
   "source": [
    "In this part of the computation, the mean of sustainable prices of invitations is higher than the non-sustainable. It can be sustainable invitations are not cost effective."
   ]
  },
  {
   "cell_type": "markdown",
   "id": "bee4452e",
   "metadata": {},
   "source": [
    " "
   ]
  },
  {
   "cell_type": "code",
   "execution_count": 122,
   "id": "57be2af9",
   "metadata": {},
   "outputs": [
    {
     "name": "stdout",
     "output_type": "stream",
     "text": [
      "Sustainable price variance: 195380.17\n",
      "Non-sustainable price variance: 268891.57\n"
     ]
    }
   ],
   "source": [
    "# variance of sustainable prices\n",
    "sustainable_prices = [\n",
    "    289, 289, 289, 150, 150, 150, 700, 700, 259, 229, 289, 289, 289, 289, 199,\n",
    "    69, 69, 69, 249, 188, 268, 157, 199, 151, 199, 69, 952, 269, 2508, 50, 219, 799\n",
    "]\n",
    "\n",
    "sus_variance = round(np.var(sustainable_prices), 2)\n",
    "\n",
    "print(f\"Sustainable price variance: {sus_variance}\")\n",
    "\n",
    "# variance of non-sustainable prices\n",
    "non_sustainable_prices = [\n",
    "    259, 259, 285, 285, 169, 169, 189, 289, 229, 188, 207.2, 207.2, 226, 226, 2468, \n",
    "    157, 69, 269\n",
    "]\n",
    "\n",
    "non_sus_variance = round(np.var(non_sustainable_prices), 2)\n",
    "\n",
    "print(f\"Non-sustainable price variance: {non_sus_variance}\")\n"
   ]
  },
  {
   "cell_type": "markdown",
   "id": "b45e805d",
   "metadata": {},
   "source": [
    "Sustainable price variance shows that prices of sustainable products have less variability around their mean price compared to the non-sustainable products."
   ]
  },
  {
   "cell_type": "code",
   "execution_count": 123,
   "id": "602bc605",
   "metadata": {},
   "outputs": [
    {
     "name": "stdout",
     "output_type": "stream",
     "text": [
      "T-statistic: 0.024260790099223065\n",
      "P-value: 0.9807451683397901\n",
      "Fail to reject the null hypothesis; there is no significant difference.\n"
     ]
    }
   ],
   "source": [
    "from scipy.stats import ttest_ind\n",
    "\n",
    "# Example data for two related samples\n",
    "sustainable_prices = [\n",
    "    289, 289, 289, 150, 150, 150, 700, 700, 259, 229, 289, 289, 289, 289, 199,\n",
    "    69, 69, 69, 249, 188, 268, 157, 199, 151, 199, 69, 952, 269, 2508, 50, 219, 799\n",
    "]\n",
    "non_sustainable_prices = [\n",
    "    259, 259, 285, 285, 169, 169, 189, 289, 229, 188, 207.2, 207.2, 226, 226, 2468, \n",
    "    157, 69, 269\n",
    "]\n",
    "\n",
    "# Performing the t-test for related samples\n",
    "t_stat, p_value = ttest_ind(sustainable_prices, non_sustainable_prices)\n",
    "\n",
    "print(f\"T-statistic: {t_stat}\")\n",
    "print(f\"P-value: {p_value}\")\n",
    "\n",
    "alpha = 0.05\n",
    "\n",
    "if p_value < alpha:\n",
    "    print(\"Reject the null hypothesis; there is a significant difference.\")\n",
    "else:\n",
    "    print(\"Fail to reject the null hypothesis; there is no significant difference.\")\n",
    "    \n",
    "# trying to relate it to statistics"
   ]
  },
  {
   "cell_type": "markdown",
   "id": "1f620eef",
   "metadata": {},
   "source": [
    "This does not imply the answer to the business question due to other factors, but it can be considered, as these are the answers for T-statistic and P-value.\n",
    "\n",
    "In this part of the computation, sustainable invitations are not cost effective."
   ]
  },
  {
   "cell_type": "markdown",
   "id": "d5fd8b40",
   "metadata": {},
   "source": [
    " "
   ]
  },
  {
   "cell_type": "code",
   "execution_count": 137,
   "id": "f6e9945e",
   "metadata": {},
   "outputs": [
    {
     "name": "stdout",
     "output_type": "stream",
     "text": [
      "   characteristic_id product_category       product_type  price_i  \\\n",
      "0                  1   Envelope Liner          Recycled     289.0   \n",
      "1                  3   Envelope Liner          Recycled     289.0   \n",
      "2                  4   Envelope Liner          Recycled     289.0   \n",
      "3                  6   Envelope Liner  Matte text weight    259.0   \n",
      "4                  7   Envelope Liner  Matte text weight    259.0   \n",
      "\n",
      "   weight_i_lb  sustainability_rating  mailing_id vendor_id product_id  \\\n",
      "0        0.007                      1           1    inv_01   prod_134   \n",
      "1        0.007                      1           3    inv_02   prod_135   \n",
      "2        0.007                      1           4    inv_03   prod_136   \n",
      "3        0.005                      0           2    inv_04   prod_137   \n",
      "4        0.005                      0           3    inv_05   prod_138   \n",
      "\n",
      "                   product_name  price_unit             unit_vol  price_ce  \\\n",
      "0  invitationalways and forever      352.04  per 100 invitations         2   \n",
      "1  invitationalways and forever      352.04  per 100 invitations         2   \n",
      "2  invitationalways and forever      352.04  per 100 invitations         2   \n",
      "3  invitationalways and forever      324.96  per 100 invitations         2   \n",
      "4  invitationalways and forever      324.96  per 100 invitations         2   \n",
      "\n",
      "  vendor_name  vendor_sustainable  \n",
      "0     theknot                   1  \n",
      "1     theknot                   1  \n",
      "2     theknot                   1  \n",
      "3     theknot                   0  \n",
      "4     theknot                   0  \n"
     ]
    }
   ],
   "source": [
    "# converting data types with a dictionary\n",
    "data_types = {\"product_category\" : str,\n",
    "              \"product_type\" : str,\n",
    "              \"vendor_id\"   : str,\n",
    "              \"product_id\"   : str,\n",
    "              \"product_name\"   : str,\n",
    "              \"unit_vol\"   : str}\n",
    "\n",
    "# specifying a file (must specify path to datasets folder)\n",
    "file = './invitations1.xlsx'\n",
    "\n",
    "# reading the file into Python through pandas\n",
    "invitations = pd.read_excel(io = file,\n",
    "                         sheet_name = 0,\n",
    "                         header     = 0,\n",
    "                         dtype      = data_types)\n",
    "\n",
    "print(invitations.head(n = 5))"
   ]
  },
  {
   "cell_type": "code",
   "execution_count": 131,
   "id": "6dcea2e9",
   "metadata": {},
   "outputs": [
    {
     "data": {
      "image/png": "[encoded data removed]",
      "text/plain": [
       "<Figure size 700x700 with 2 Axes>"
      ]
     },
     "metadata": {},
     "output_type": "display_data"
    }
   ],
   "source": [
    "# creating a data frame from correlation - removing categorical values\n",
    "inv_corr = invitations.select_dtypes(include=[np.number]).corr(method='pearson')\n",
    "\n",
    "# plot size\n",
    "fig, ax = plt.subplots( figsize = (7 , 7) )\n",
    "\n",
    "\n",
    "# a heatmap\n",
    "sns.heatmap(data= inv_corr, # where the data is coming from\n",
    "            annot= True, # put numbers in the map\n",
    "            cmap = 'coolwarm', # color\n",
    "            square = True, # improve the layout\n",
    "            linecolor = 'white', # color between boxes\n",
    "            linewidths = 0.3 # how thick are the lines\n",
    "           ) \n",
    "\n",
    "# chart title\n",
    "plt.title(label = 'Linear Correlation of Invitations')\n",
    "\n",
    "# plot display\n",
    "plt.show(block = True)"
   ]
  },
  {
   "cell_type": "markdown",
   "id": "9d594c1f",
   "metadata": {},
   "source": [
    " "
   ]
  },
  {
   "cell_type": "code",
   "execution_count": 132,
   "id": "0782aaf6",
   "metadata": {},
   "outputs": [
    {
     "name": "stderr",
     "output_type": "stream",
     "text": [
      "/Users/kimberly/anaconda3/lib/python3.11/site-packages/seaborn/_oldcore.py:1498: FutureWarning: is_categorical_dtype is deprecated and will be removed in a future version. Use isinstance(dtype, CategoricalDtype) instead\n",
      "  if pd.api.types.is_categorical_dtype(vector):\n",
      "/Users/kimberly/anaconda3/lib/python3.11/site-packages/seaborn/_oldcore.py:1119: FutureWarning: use_inf_as_na option is deprecated and will be removed in a future version. Convert inf values to NaN before operating instead.\n",
      "  with pd.option_context('mode.use_inf_as_na', True):\n"
     ]
    },
    {
     "data": {
      "image/png": "[encoded data removed]",
      "text/plain": [
       "<Figure size 640x480 with 1 Axes>"
      ]
     },
     "metadata": {},
     "output_type": "display_data"
    }
   ],
   "source": [
    "# histogram for price\n",
    "sns.histplot(data = invitations,\n",
    "             x    = 'price_ce')\n",
    "\n",
    "\n",
    "# title and labels\n",
    "plt.title(\"\"\"\n",
    "Distribution for \n",
    "Invitation Cost Efficiency\"\"\")\n",
    "plt.xlabel(\"Price \")\n",
    "plt.ylabel(\"Frequency\")\n",
    "\n",
    "\n",
    "# rendering the plot\n",
    "plt.show()\n"
   ]
  },
  {
   "cell_type": "markdown",
   "id": "dddfa824",
   "metadata": {},
   "source": [
    " "
   ]
  },
  {
   "cell_type": "code",
   "execution_count": 134,
   "id": "fffeda60",
   "metadata": {},
   "outputs": [
    {
     "data": {
      "image/png": "[encoded data removed]",
      "text/plain": [
       "<Figure size 500x500 with 1 Axes>"
      ]
     },
     "metadata": {},
     "output_type": "display_data"
    }
   ],
   "source": [
    "# a scatter plot for carat and price\n",
    "sns.lmplot(x          = 'price_i' , # x-axis feature\n",
    "           y          = 'price_ce' , # y-axis feature\n",
    "           hue        = None    , # categorical data for subsets\n",
    "           scatter    = True    , # scatter plot\n",
    "           fit_reg    = True   , # regression line\n",
    "           aspect     = 1       , # aspect ratio for plot\n",
    "           data       = invitations) # DataFrame \n",
    "\n",
    "\n",
    "# formatting and displaying the plot\n",
    "plt.title       (label  = 'Price and Cost Efficiency')\n",
    "plt.xlabel      (xlabel = 'Price'          )\n",
    "plt.ylabel      (ylabel = 'Cost Efficiency'           )\n",
    "plt.xlim        (left   = 4, right = 2750) # where x will end\n",
    "plt.tight_layout(pad    = 0.5                    )\n",
    "plt.show        (block  = True                    )"
   ]
  },
  {
   "cell_type": "code",
   "execution_count": 135,
   "id": "5d14bb91",
   "metadata": {},
   "outputs": [
    {
     "name": "stdout",
     "output_type": "stream",
     "text": [
      "                            OLS Regression Results                            \n",
      "==============================================================================\n",
      "Dep. Variable:                price_i   R-squared:                       0.238\n",
      "Model:                            OLS   Adj. R-squared:                  0.222\n",
      "Method:                 Least Squares   F-statistic:                     14.96\n",
      "Date:                Tue, 12 Dec 2023   Prob (F-statistic):           0.000331\n",
      "Time:                        03:48:23   Log-Likelihood:                -371.91\n",
      "No. Observations:                  50   AIC:                             747.8\n",
      "Df Residuals:                      48   BIC:                             751.6\n",
      "Df Model:                           1                                         \n",
      "Covariance Type:            nonrobust                                         \n",
      "==============================================================================\n",
      "                 coef    std err          t      P>|t|      [0.025      0.975]\n",
      "------------------------------------------------------------------------------\n",
      "Intercept   -155.4827    142.113     -1.094      0.279    -441.219     130.254\n",
      "price_ce     215.2460     55.656      3.867      0.000     103.343     327.149\n",
      "==============================================================================\n",
      "Omnibus:                       57.650   Durbin-Watson:                   1.781\n",
      "Prob(Omnibus):                  0.000   Jarque-Bera (JB):              348.036\n",
      "Skew:                           3.034   Prob(JB):                     2.66e-76\n",
      "Kurtosis:                      14.412   Cond. No.                         6.91\n",
      "==============================================================================\n",
      "\n",
      "Notes:\n",
      "[1] Standard Errors assume that the covariance matrix of the errors is correctly specified.\n"
     ]
    }
   ],
   "source": [
    "# for regression\n",
    "# importing a package\n",
    "import statsmodels.formula.api as smf\n",
    "\n",
    "# Step 1: INSTANTIATE a model object\n",
    "lm_best = smf.ols(formula = \"\"\"price_i ~ price_ce\"\"\",\n",
    "                  data    = invitations)\n",
    "\n",
    "\n",
    "# Step 2: FIT the data into the model object\n",
    "results = lm_best.fit()\n",
    "\n",
    "\n",
    "# Step 3: analyze the SUMMARY output\n",
    "print(results.summary())"
   ]
  },
  {
   "cell_type": "markdown",
   "id": "bff00836",
   "metadata": {},
   "source": [
    "Olenski of Forbes enumerated cost effective marketing strategies, and here are some of them. If wedding planners and/or vendors would transition in cost effective ways to improve in their sales or growing their brand, they could do it through blogging, having a mail list, using online sites to promote, provide calls to action, giving coupons and discounts, using videos. In this way, less money will cost them and aim for less carbon footprint.\n",
    "\n",
    "For investors, couples and families, they could do research through the internet on which they can fit their budget, their aesthetic, and their beliefs and values. Ensure to gather the information from the true source and be responsible.\n",
    "\n",
    "Another action for wedding planners and/or vendors is to communicate with the clients, and build a relationship with them. Elhawary (2023) introduced the mapping of the client's journey. Respond promptly and effectively for customer satisfaction.\n",
    "\n",
    "Being honest with investors, employees, and suppliers also help the company to move forward and also gain valuable insights from them. Providing proof of what the company has done with its pledge or its commitment entices stakeholders' trust.\n"
   ]
  },
  {
   "cell_type": "markdown",
   "id": "56c59859",
   "metadata": {},
   "source": [
    " "
   ]
  },
  {
   "cell_type": "markdown",
   "id": "87a39695",
   "metadata": {},
   "source": [
    "One of the vendors (Paper Culture) from the invitations department claiming that their products are 100% recycled paper and other eco-friendly materials, which lead to 100% of the carbon footprint of production, and planted 1,000,000 trees. They partnered with organizations like CarbonFund.org to offset their entire carbon footprint. Other products like table numbers are more expensive than others. Some of their invitation prices are the same as other vendors (The Knot) with recycled and non-recycled products. In the case of Coffee n Cream vendor, they do not claim as sustainable company. They are more expensive than the the first two vendors mentioned, a letterpress printing business specializing in custom wedding invitations, greeting cards and stationery. Their printing is typically used for single-color or limited-color printing because each color requires a separate pass through the press."
   ]
  },
  {
   "cell_type": "markdown",
   "id": "6e76c211",
   "metadata": {},
   "source": [
    " "
   ]
  },
  {
   "cell_type": "markdown",
   "id": "937af46a",
   "metadata": {},
   "source": [
    "Based on the given data and mathematical calculations, the answer to the business question is sustainable products are not cost effective, but it is not in the case when the whole product prices are being reviewed.\n",
    "\n",
    "To finalize the answer sustainable products are not cost effective, To have the answer supported, the calculations are written above. "
   ]
  },
  {
   "cell_type": "markdown",
   "id": "c2ca29b3",
   "metadata": {},
   "source": [
    " "
   ]
  },
  {
   "cell_type": "markdown",
   "id": "92648fe1",
   "metadata": {},
   "source": [
    " "
   ]
  },
  {
   "cell_type": "markdown",
   "id": "7828c871",
   "metadata": {},
   "source": [
    "References:\n",
    "\n",
    "Coffee n Cream Press. (n.d.). Coffee n Cream Press. https://coffeencreampress.com/home-1 \n",
    "\n",
    "Cost Efficiency Guide: What is it &amp; How to Achieve it. GEP. (2016, March 18). https://www.gep.com/cost-efficiency-guide \n",
    "\n",
    "Elhawary, M. (2023, July 31). Council Post: 12 Cost-Effective Techniques to Elevate Your B2B Customer Experience. Forbes. https://www.forbes.com/sites/forbesagencycouncil/2023/07/28/12-cost-effective-techniques-to-elevate-your-b2b-customer-experience/?sh=586b22f4c5a1 \n",
    "\n",
    "Hosseini, S. (2023, July 25). How to Do a T-test in Python. Built In. https://builtin.com/data-science/t-test-python \n",
    "\n",
    "Johns, L., Morrison, H., Davis-Peccoud, J., & Carbinato, D. (2023). How brands can sell to environmentally conscious nonconsumers: there is an undeniable gap between what consumers say they want and what they are actually putting in their baskets. Harvard Business Review Digital Articles, 6/5/2023, P1.\n",
    "\n",
    "Merriam-Webster. (n.d.). Cost-effective definition &amp; meaning. Merriam-Webster. https://www.merriam-webster.com/dictionary/cost-effective \n",
    "\n",
    "Olenski, S. (2015, November 24). 7 Cost Effective Marketing Strategies for Growing a New Brand. Forbes. https://www.forbes.com/sites/steveolenski/2015/11/23/7-cost-effective-marketing-strategies-for-growing-a-new-brand/?sh=5336680b9551 \n",
    "\n",
    "Paper Culture. Product and Process | Paper Culture. (n.d.). https://www.paperculture.com/processes \n",
    "\n",
    "What is Sustainability. (2021). UCLA Sustainability. Retrieved December 11, 2023, from https://www.sustain.ucla.edu/what-is-sustainability/#:~:text=Sustainable%20practices%20support%20ecological%2C%20human,in%20which%20resources%20are%20used. \n",
    "\n",
    "\n",
    "\n"
   ]
  }
 ],
 "metadata": {
  "kernelspec": {
   "display_name": "Python 3 (ipykernel)",
   "language": "python",
   "name": "python3"
  },
  "language_info": {
   "codemirror_mode": {
    "name": "ipython",
    "version": 3
   },
   "file_extension": ".py",
   "mimetype": "text/x-python",
   "name": "python",
   "nbconvert_exporter": "python",
   "pygments_lexer": "ipython3",
   "version": "3.11.5"
  },
  "toc": {
   "base_numbering": 1,
   "nav_menu": {},
   "number_sections": true,
   "sideBar": true,
   "skip_h1_title": false,
   "title_cell": "Table of Contents",
   "title_sidebar": "Contents",
   "toc_cell": false,
   "toc_position": {},
   "toc_section_display": true,
   "toc_window_display": false
  },
  "varInspector": {
   "cols": {
    "lenName": 16,
    "lenType": 16,
    "lenVar": 40
   },
   "kernels_config": {
    "python": {
     "delete_cmd_postfix": "",
     "delete_cmd_prefix": "del ",
     "library": "var_list.py",
     "varRefreshCmd": "print(var_dic_list())"
    },
    "r": {
     "delete_cmd_postfix": ") ",
     "delete_cmd_prefix": "rm(",
     "library": "var_list.r",
     "varRefreshCmd": "cat(var_dic_list()) "
    }
   },
   "types_to_exclude": [
    "module",
    "function",
    "builtin_function_or_method",
    "instance",
    "_Feature"
   ],
   "window_display": false
  }
 },
 "nbformat": 4,
 "nbformat_minor": 5
}
